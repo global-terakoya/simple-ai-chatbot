{
 "cells": [
  {
   "cell_type": "markdown",
   "metadata": {
    "slideshow": {
     "slide_type": "slide"
    }
   },
   "source": [
    "# Day 1: Get ready to develop a simple AI chatbot!\n",
    "\n",
    "Morning Project Samurai, Inc."
   ]
  },
  {
   "cell_type": "markdown",
   "metadata": {
    "slideshow": {
     "slide_type": "slide"
    }
   },
   "source": [
    "## Table of contents\n",
    "1. [Variables in Python](#variables-in-python)\n",
    "2. [Practice with Python Variables](#practice-with-python-variables)\n",
    "3. [Lists and Dictionaries in Python](#lists-and-dictionaries-in-python)\n",
    "4. [Functions in Python](#functions-in-python)\n",
    "5. [Classes in Python](#classes-in-python)\n",
    "6. [Modules in Python](#modules-in-python)\n",
    "7. [Control Statements in Python](#control-statements-in-python)\n",
    "8. [Exception Handling in Python](#exception-handling-in-python)\n",
    "9. [A Simple Console-Based Non-AI Chatbot](#a-simple-console-based-non-ai-chatbot)"
   ]
  },
  {
   "cell_type": "markdown",
   "metadata": {
    "slideshow": {
     "slide_type": "slide"
    }
   },
   "source": [
    "## Variables in Python\n",
    "\n",
    "Variables are fundamental building blocks in Python programming. They are used to store and manipulate data. Here's a brief overview of Python variables:\n",
    "\n",
    "1. Declaration and Assignment\n",
    "2. Naming Conventions\n",
    "3. Data Types\n",
    "4. Dynamic Typing\n",
    "5. Multiple Assignment\n",
    "\n",
    "Understanding variables is crucial for developing a simple AI chatbot, as they'll be used to store user inputs, chatbot responses, and other important data throughout your program."
   ]
  },
  {
   "cell_type": "markdown",
   "metadata": {
    "slideshow": {
     "slide_type": "subslide"
    }
   },
   "source": [
    "### 1. Declaration and Assignment:\n",
    "\n",
    "- In Python, you don't need to declare a variable's type explicitly.\n",
    "- Variables are created when you first assign a value to them.\n",
    "- Example: `x = 5` creates a variable named 'x' with the value 5."
   ]
  },
  {
   "cell_type": "markdown",
   "metadata": {
    "slideshow": {
     "slide_type": "subslide"
    }
   },
   "source": [
    "### 2. Naming Conventions:\n",
    "\n",
    "- Variable names should start with a letter or underscore.\n",
    "- They can contain letters, numbers, and underscores.\n",
    "- Names are case-sensitive (e.g., 'MyVar' and 'myvar' are different variables)."
   ]
  },
  {
   "cell_type": "markdown",
   "metadata": {
    "slideshow": {
     "slide_type": "subslide"
    }
   },
   "source": [
    "### 3. Data Types:\n",
    "\n",
    "Python variables can hold various data types:\n",
    "\n",
    "- Integers: `count = 10`\n",
    "- Floating-point numbers: `pi = 3.14`\n",
    "- Strings: `name = \"Alice\"`\n",
    "- Booleans: `is_active = True`\n",
    "- Lists: `numbers = [1, 2, 3]`\n",
    "- Dictionaries: `person = {\"name\": \"Bob\", \"age\": 30}`"
   ]
  },
  {
   "cell_type": "markdown",
   "metadata": {
    "slideshow": {
     "slide_type": "subslide"
    }
   },
   "source": [
    "### 4. Dynamic Typing:\n",
    "\n",
    "- Python is dynamically typed, meaning you can change a variable's type after it's been set.\n",
    "- Example: \n",
    "  ```python\n",
    "  x = 5       # x is an integer\n",
    "  x = \"five\"  # x is now a string\n",
    "  ```"
   ]
  },
  {
   "cell_type": "markdown",
   "metadata": {
    "slideshow": {
     "slide_type": "subslide"
    }
   },
   "source": [
    "### 5. Multiple Assignment:\n",
    "\n",
    "- You can assign multiple variables at once:\n",
    "  ```python\n",
    "  a, b, c = 1, 2, 3\n",
    "  ```"
   ]
  },
  {
   "cell_type": "code",
   "execution_count": 8,
   "metadata": {
    "slideshow": {
     "slide_type": "skip"
    }
   },
   "outputs": [
    {
     "name": "stdout",
     "output_type": "stream",
     "text": [
      "Name: Alice\n",
      "Age: 30\n",
      "Height: 1.75\n",
      "Is student? True\n",
      "Initial value of x: 10\n",
      "New value of x: ten\n",
      "a: 1 b: 2 c: 3\n"
     ]
    }
   ],
   "source": [
    "# Let's practice with some examples of Python variables\n",
    "\n",
    "# Example 1: Basic variable assignment\n",
    "name = \"Alice\"\n",
    "age = 30\n",
    "height = 1.75\n",
    "is_student = True\n",
    "\n",
    "print(\"Name:\", name)\n",
    "print(\"Age:\", age)\n",
    "print(\"Height:\", height)\n",
    "print(\"Is student?\", is_student)\n",
    "\n",
    "# Example 2: Variable reassignment\n",
    "x = 10\n",
    "print(\"Initial value of x:\", x)\n",
    "x = \"ten\"\n",
    "print(\"New value of x:\", x)\n",
    "\n",
    "# Example 3: Multiple assignment\n",
    "a, b, c = 1, 2, 3\n",
    "print(\"a:\", a, \"b:\", b, \"c:\", c)\n",
    "\n",
    "# Practice problems:\n",
    "\n",
    "# Problem 1: Create a variable called 'favorite_color' and assign it your favorite color\n",
    "# Your code here\n",
    "\n",
    "# Problem 2: Create two variables, 'num1' and 'num2', assign them any numbers, then create a third variable 'sum' that stores their sum\n",
    "# Your code here\n",
    "\n",
    "# Problem 3: Create a variable called 'is_raining' and assign it a boolean value based on the current weather\n",
    "# Your code here\n",
    "\n",
    "# Problem 4: Create a variable called 'user_input' and use the input() function to get a string from the user\n",
    "# Your code here\n",
    "\n",
    "# After solving each problem, print the variables to check your work\n"
   ]
  },
  {
   "cell_type": "markdown",
   "metadata": {
    "slideshow": {
     "slide_type": "slide"
    }
   },
   "source": [
    "## Lists and Dictionaries in Python\n",
    "\n",
    "- Lists are ordered, mutable collections of items. They can contain elements of different types.\n",
    "- Dictionaries are unordered collections of key-value pairs. They are mutable and keys must be unique.\n",
    "\n",
    "Both lists and dictionaries are essential data structures in Python and will be useful in developing your AI chatbot for storing and manipulating data efficiently."
   ]
  },
  {
   "cell_type": "markdown",
   "metadata": {
    "slideshow": {
     "slide_type": "subslide"
    }
   },
   "source": [
    "### Lists\n",
    "Lists are ordered, mutable collections of items. They can contain elements of different types.\n",
    "\n",
    "Examples:\n",
    "1. Creating a list:\n",
    "   ```python\n",
    "   fruits = [\"apple\", \"banana\", \"cherry\"]\n",
    "   ```\n",
    "\n",
    "2. Accessing elements:\n",
    "   ```python\n",
    "   first_fruit = fruits[0]  # \"apple\"\n",
    "   last_fruit = fruits[-1]  # \"cherry\"\n",
    "   ```\n",
    "\n",
    "3. Modifying lists:\n",
    "   ```python\n",
    "   fruits.append(\"date\")  # Add to the end\n",
    "   fruits.insert(1, \"blueberry\")  # Insert at index 1\n",
    "   fruits.remove(\"banana\")  # Remove by value\n",
    "   popped_fruit = fruits.pop()  # Remove and return last item\n",
    "   ```"
   ]
  },
  {
   "cell_type": "markdown",
   "metadata": {
    "slideshow": {
     "slide_type": "subslide"
    }
   },
   "source": [
    "4. Slicing:\n",
    "   ```python\n",
    "   subset = fruits[1:3]  # Get a subset of the list\n",
    "   ```\n",
    "\n",
    "5. List comprehension:\n",
    "   ```python\n",
    "   squares = [x**2 for x in range(5)]  # [0, 1, 4, 9, 16]\n",
    "   ```"
   ]
  },
  {
   "cell_type": "markdown",
   "metadata": {
    "slideshow": {
     "slide_type": "subslide"
    }
   },
   "source": [
    "### Dictionaries\n",
    "\n",
    "Dictionaries are unordered collections of key-value pairs. They are mutable and keys must be unique.\n",
    "\n",
    "Examples:\n",
    "1. Creating a dictionary:\n",
    "   ```python\n",
    "   person = {\"name\": \"Alice\", \"age\": 30, \"city\": \"New York\"}\n",
    "   ```\n",
    "\n",
    "2. Accessing values:\n",
    "   ```python\n",
    "   name = person[\"name\"]  # \"Alice\"\n",
    "   age = person.get(\"age\")  # 30 (safer method)\n",
    "   ```\n",
    "\n",
    "3. Modifying dictionaries:\n",
    "   ```python\n",
    "   person[\"job\"] = \"Engineer\"  # Add new key-value pair\n",
    "   person[\"age\"] = 31  # Modify existing value\n",
    "   del person[\"city\"]  # Remove a key-value pair\n",
    "   ```"
   ]
  },
  {
   "cell_type": "markdown",
   "metadata": {
    "slideshow": {
     "slide_type": "subslide"
    }
   },
   "source": [
    "4. Dictionary methods:\n",
    "   ```python\n",
    "   keys = person.keys()  # Get all keys\n",
    "   values = person.values()  # Get all values\n",
    "   items = person.items()  # Get all key-value pairs as tuples\n",
    "   ```\n",
    "\n",
    "5. Dictionary comprehension:\n",
    "   ```python\n",
    "   squared_numbers = {x: x**2 for x in range(5)}  # {0: 0, 1: 1, 2: 4, 3: 9, 4: 16}"
   ]
  },
  {
   "cell_type": "code",
   "execution_count": 9,
   "metadata": {
    "slideshow": {
     "slide_type": "skip"
    }
   },
   "outputs": [
    {
     "name": "stdout",
     "output_type": "stream",
     "text": [
      "The third fruit is: orange\n",
      "Removed fruit: banana\n",
      "First three fruits: ['apple', 'orange', 'mango']\n",
      "Fruit name lengths: [5, 6, 5, 10, 4]\n",
      "Person's name: John Doe\n",
      "name: John Doe\n",
      "age: 31\n",
      "occupation: Software Developer\n",
      "favorite_color: blue\n",
      "Squared numbers: {1: 1, 2: 4, 3: 9, 4: 16, 5: 25}\n"
     ]
    }
   ],
   "source": [
    "# Practice Problems for Lists and Dictionaries\n",
    "\n",
    "# List Practice Problems\n",
    "\n",
    "# 1. Create a list of your favorite fruits\n",
    "fruits = [\"apple\", \"banana\", \"orange\", \"mango\", \"strawberry\"]\n",
    "\n",
    "# 2. Print the third fruit in the list\n",
    "print(\"The third fruit is:\", fruits[2])\n",
    "\n",
    "# 3. Add a new fruit to the end of the list\n",
    "fruits.append(\"kiwi\")\n",
    "\n",
    "# 4. Remove the second fruit from the list\n",
    "removed_fruit = fruits.pop(1)\n",
    "print(\"Removed fruit:\", removed_fruit)\n",
    "\n",
    "# 5. Create a new list with the first three fruits\n",
    "first_three = fruits[:3]\n",
    "print(\"First three fruits:\", first_three)\n",
    "\n",
    "# 6. Use a list comprehension to create a list of the lengths of each fruit name\n",
    "fruit_lengths = [len(fruit) for fruit in fruits]\n",
    "print(\"Fruit name lengths:\", fruit_lengths)\n",
    "\n",
    "# Dictionary Practice Problems\n",
    "\n",
    "# 1. Create a dictionary representing a person\n",
    "person = {\n",
    "    \"name\": \"John Doe\",\n",
    "    \"age\": 30,\n",
    "    \"city\": \"New York\",\n",
    "    \"occupation\": \"Software Developer\"\n",
    "}\n",
    "\n",
    "# 2. Print the person's name\n",
    "print(\"Person's name:\", person[\"name\"])\n",
    "\n",
    "# 3. Add a new key-value pair for the person's favorite color\n",
    "person[\"favorite_color\"] = \"blue\"\n",
    "\n",
    "# 4. Change the person's age\n",
    "person[\"age\"] = 31\n",
    "\n",
    "# 5. Remove the 'city' key-value pair\n",
    "del person[\"city\"]\n",
    "\n",
    "# 6. Print all keys and values in the dictionary\n",
    "for key, value in person.items():\n",
    "    print(f\"{key}: {value}\")\n",
    "\n",
    "# 7. Use a dictionary comprehension to create a new dictionary with \n",
    "# keys as numbers from 1 to 5 and values as their squares\n",
    "squared_numbers = {x: x**2 for x in range(1, 6)}\n",
    "print(\"Squared numbers:\", squared_numbers)\n",
    "\n",
    "# Try solving these problems and experiment with the code to deepen your understanding!\n",
    "\n"
   ]
  },
  {
   "cell_type": "markdown",
   "metadata": {
    "slideshow": {
     "slide_type": "slide"
    }
   },
   "source": [
    "## Functions in Python\n",
    "\n",
    "Functions in Python are reusable blocks of code that perform a specific task. They help in organizing code, improving readability, and reducing repetition. Here's an overview of Python functions:\n",
    "\n",
    "1. Defining a function\n",
    "2. Calling a function\n",
    "3. Parameters and arguments\n",
    "4. Default parameters\n",
    "5. Return statement\n",
    "6. Docstrings\n",
    "7. Lambda functions (anonymous functions)\n",
    "\n",
    "Functions are crucial in Python programming and will be essential in developing your AI chatbot for organizing code and creating modular, reusable components."
   ]
  },
  {
   "cell_type": "markdown",
   "metadata": {
    "slideshow": {
     "slide_type": "subslide"
    }
   },
   "source": [
    "1. Defining a function:\n",
    "   ```python\n",
    "   def greet(name):\n",
    "       return f\"Hello, {name}!\"\n",
    "   ```\n",
    "\n",
    "2. Calling a function:\n",
    "   ```python\n",
    "   message = greet(\"Alice\")  # \"Hello, Alice!\"\n",
    "   ```\n",
    "\n",
    "3. Parameters and arguments:\n",
    "   - Parameters are variables in the function definition.\n",
    "   - Arguments are the values passed to the function when calling it."
   ]
  },
  {
   "cell_type": "markdown",
   "metadata": {
    "slideshow": {
     "slide_type": "subslide"
    }
   },
   "source": [
    "4. Default parameters:\n",
    "   ```python\n",
    "   def greet(name=\"World\"):\n",
    "       return f\"Hello, {name}!\"\n",
    "   ```\n",
    "\n",
    "5. Return statement:\n",
    "   - Used to specify the output of the function.\n",
    "   - A function can have multiple return statements.\n",
    "\n",
    "6. Docstrings:\n",
    "   ```python\n",
    "   def add(a, b):\n",
    "       \"\"\"\n",
    "       Add two numbers and return the result.\n",
    "       \"\"\"\n",
    "       return a + b\n",
    "   ```"
   ]
  },
  {
   "cell_type": "markdown",
   "metadata": {
    "slideshow": {
     "slide_type": "subslide"
    }
   },
   "source": [
    "7. Lambda functions (anonymous functions):\n",
    "   ```python\n",
    "   square = lambda x: x**2\n",
    "   ```"
   ]
  },
  {
   "cell_type": "code",
   "execution_count": 10,
   "metadata": {
    "slideshow": {
     "slide_type": "skip"
    }
   },
   "outputs": [
    {
     "name": "stdout",
     "output_type": "stream",
     "text": [
      "20\n",
      "9\n",
      "8\n",
      "6\n",
      "100\n",
      "16\n",
      "25\n",
      "9\n",
      "10\n"
     ]
    }
   ],
   "source": [
    "# Practice Problems for Python Functions\n",
    "\n",
    "# Problem 1: Basic Function\n",
    "# Write a function called 'multiply' that takes two parameters and returns their product.\n",
    "\n",
    "def multiply(a, b):\n",
    "    \"\"\"\n",
    "    Multiply two numbers and return the result.\n",
    "    \"\"\"\n",
    "    return a * b\n",
    "\n",
    "# Test the function\n",
    "print(multiply(4, 5))  # Should output: 20\n",
    "\n",
    "# Problem 2: Default Parameters\n",
    "# Create a function called 'power' that takes two parameters: \n",
    "# 'base' and 'exponent' (with a default value of 2), and returns base^exponent.\n",
    "\n",
    "def power(base, exponent=2):\n",
    "    \"\"\"\n",
    "    Calculate the power of a number.\n",
    "    If no exponent is provided, square the base.\n",
    "    \"\"\"\n",
    "    return base ** exponent\n",
    "\n",
    "# Test the function\n",
    "print(power(3))     # Should output: 9\n",
    "print(power(2, 3))  # Should output: 8\n",
    "\n",
    "# Problem 3: Variable Number of Arguments\n",
    "# Write a function called 'sum_all' that can accept any number of arguments and returns their sum.\n",
    "\n",
    "def sum_all(*args):\n",
    "    \"\"\"\n",
    "    Sum all the arguments passed to the function.\n",
    "    \"\"\"\n",
    "    return sum(args)\n",
    "\n",
    "# Test the function\n",
    "print(sum_all(1, 2, 3))       # Should output: 6\n",
    "print(sum_all(10, 20, 30, 40))  # Should output: 100\n",
    "\n",
    "# Problem 4: Lambda Function\n",
    "# Create a lambda function that takes a number and returns its square.\n",
    "# Assign it to a variable called 'square'.\n",
    "\n",
    "square = lambda x: x**2\n",
    "\n",
    "# Test the lambda function\n",
    "print(square(4))  # Should output: 16\n",
    "print(square(5))  # Should output: 25\n",
    "\n",
    "# Problem 5: Function as an Argument\n",
    "# Write a function called 'apply_operation' that takes a function and a number as arguments,\n",
    "# and returns the result of applying the function to the number.\n",
    "\n",
    "def apply_operation(func, number):\n",
    "    \"\"\"\n",
    "    Apply the given function to the number and return the result.\n",
    "    \"\"\"\n",
    "    return func(number)\n",
    "\n",
    "# Test the function\n",
    "print(apply_operation(square, 3))  # Should output: 9\n",
    "print(apply_operation(lambda x: x * 2, 5))  # Should output: 10\n",
    "\n",
    "# Try solving these problems to practice your understanding of Python functions!\n"
   ]
  },
  {
   "cell_type": "markdown",
   "metadata": {
    "slideshow": {
     "slide_type": "slide"
    }
   },
   "source": [
    "## Classes in Python\n",
    "\n",
    "Classes are a fundamental concept in object-oriented programming (OOP) in Python. They allow you to create custom data types and organize your code into reusable, modular structures. Here's an overview of classes in Python:\n",
    "\n",
    "1. Defining a class\n",
    "2. Creating an instance (object) of a class\n",
    "3. Class attributes and methods\n",
    "4. Inheritance\n",
    "5. Class methods and static methods\n",
    "6. Property decorators:\n",
    "\n",
    "Classes are essential in Python for creating complex, organized, and maintainable code structures. They will be particularly useful in your AI chatbot project for modeling various components and behaviors.\n"
   ]
  },
  {
   "cell_type": "markdown",
   "metadata": {
    "slideshow": {
     "slide_type": "subslide"
    }
   },
   "source": [
    "1. Defining a class:\n",
    "   ```python\n",
    "   class Dog:\n",
    "       def __init__(self, name, age):\n",
    "           self.name = name\n",
    "           self.age = age\n",
    "   ```\n",
    "\n",
    "2. Creating an instance (object) of a class:\n",
    "   ```python\n",
    "   my_dog = Dog(\"Buddy\", 3)\n",
    "   ```\n",
    "\n",
    "3. Class attributes and methods:\n",
    "   ```python\n",
    "   class Dog:\n",
    "       species = \"Canis familiaris\"  # Class attribute\n",
    "\n",
    "       def __init__(self, name, age):\n",
    "           self.name = name  # Instance attribute\n",
    "           self.age = age    # Instance attribute\n",
    "\n",
    "       def bark(self):  # Instance method\n",
    "           return f\"{self.name} says Woof!\"\n",
    "   ```"
   ]
  },
  {
   "cell_type": "markdown",
   "metadata": {
    "slideshow": {
     "slide_type": "subslide"
    }
   },
   "source": [
    "\n",
    "4. Inheritance:\n",
    "   ```python\n",
    "   class Labrador(Dog):\n",
    "       def __init__(self, name, age, color):\n",
    "           super().__init__(name, age)\n",
    "           self.color = color\n",
    "   ```\n",
    "\n",
    "5. Class methods and static methods:\n",
    "   ```python\n",
    "   class Dog:\n",
    "       @classmethod\n",
    "       def from_birth_year(cls, name, birth_year):\n",
    "           return cls(name, 2023 - birth_year)\n",
    "\n",
    "       @staticmethod\n",
    "       def is_adult(age):\n",
    "           return age >= 2\n",
    "   ```"
   ]
  },
  {
   "cell_type": "markdown",
   "metadata": {
    "slideshow": {
     "slide_type": "subslide"
    }
   },
   "source": [
    "6. Property decorators:\n",
    "   ```python\n",
    "   class Dog:\n",
    "       def __init__(self, name, age):\n",
    "           self._name = name\n",
    "           self._age = age\n",
    "\n",
    "       @property\n",
    "       def age(self):\n",
    "           return self._age\n",
    "\n",
    "       @age.setter\n",
    "       def age(self, value):\n",
    "           if value > 0:\n",
    "               self._age = value\n",
    "           else:\n",
    "               raise ValueError(\"Age must be positive\")\n",
    "   ```"
   ]
  },
  {
   "cell_type": "code",
   "execution_count": 11,
   "metadata": {
    "slideshow": {
     "slide_type": "skip"
    }
   },
   "outputs": [
    {
     "name": "stdout",
     "output_type": "stream",
     "text": [
      "Book: To Kill a Mockingbird by Harper Lee, 281 pages\n",
      "1984 is a book written by George Orwell. It has 328 pages.\n",
      "The Great Gatsby is a book written by F. Scott Fitzgerald. It has 180 pages. The ebook file size is 2.5 MB.\n",
      "Total books created: 2\n",
      "Pages in Moby-Dick: 585\n",
      "Error: Pages must be a positive integer\n"
     ]
    }
   ],
   "source": [
    "# Practice Problems for Python Classes\n",
    "\n",
    "# Problem 1: Create a basic class\n",
    "# Create a class called 'Book' with attributes for title, author, and pages.\n",
    "# Then create an instance of this class and print its attributes.\n",
    "\n",
    "class Book:\n",
    "    def __init__(self, title, author, pages):\n",
    "        self.title = title\n",
    "        self.author = author\n",
    "        self.pages = pages\n",
    "\n",
    "book1 = Book(\"To Kill a Mockingbird\", \"Harper Lee\", 281)\n",
    "print(f\"Book: {book1.title} by {book1.author}, {book1.pages} pages\")\n",
    "\n",
    "# Problem 2: Class methods\n",
    "# Add a method to the Book class that returns a string description of the book.\n",
    "# Create an instance and call this method.\n",
    "\n",
    "class Book:\n",
    "    def __init__(self, title, author, pages):\n",
    "        self.title = title\n",
    "        self.author = author\n",
    "        self.pages = pages\n",
    "    \n",
    "    def description(self):\n",
    "        return f\"{self.title} is a book written by {self.author}. It has {self.pages} pages.\"\n",
    "\n",
    "book2 = Book(\"1984\", \"George Orwell\", 328)\n",
    "print(book2.description())\n",
    "\n",
    "# Problem 3: Inheritance\n",
    "# Create a subclass of Book called Ebook with an additional attribute for file_size.\n",
    "# Override the description method to include the file size.\n",
    "\n",
    "class Ebook(Book):\n",
    "    def __init__(self, title, author, pages, file_size):\n",
    "        super().__init__(title, author, pages)\n",
    "        self.file_size = file_size\n",
    "    \n",
    "    def description(self):\n",
    "        return f\"{super().description()} The ebook file size is {self.file_size} MB.\"\n",
    "\n",
    "ebook1 = Ebook(\"The Great Gatsby\", \"F. Scott Fitzgerald\", 180, 2.5)\n",
    "print(ebook1.description())\n",
    "\n",
    "# Problem 4: Class variable and class method\n",
    "# Add a class variable to Book to keep track of the total number of books created.\n",
    "# Add a class method to return this total.\n",
    "\n",
    "class Book:\n",
    "    total_books = 0\n",
    "    \n",
    "    def __init__(self, title, author, pages):\n",
    "        self.title = title\n",
    "        self.author = author\n",
    "        self.pages = pages\n",
    "        Book.total_books += 1\n",
    "    \n",
    "    @classmethod\n",
    "    def get_total_books(cls):\n",
    "        return cls.total_books\n",
    "\n",
    "book3 = Book(\"Pride and Prejudice\", \"Jane Austen\", 432)\n",
    "book4 = Book(\"The Catcher in the Rye\", \"J.D. Salinger\", 234)\n",
    "print(f\"Total books created: {Book.get_total_books()}\")\n",
    "\n",
    "# Problem 5: Property decorator\n",
    "# Use a property decorator in the Book class to ensure that the number of pages\n",
    "# is always a positive integer.\n",
    "\n",
    "class Book:\n",
    "    def __init__(self, title, author, pages):\n",
    "        self.title = title\n",
    "        self.author = author\n",
    "        self._pages = pages\n",
    "    \n",
    "    @property\n",
    "    def pages(self):\n",
    "        return self._pages\n",
    "    \n",
    "    @pages.setter\n",
    "    def pages(self, value):\n",
    "        if not isinstance(value, int) or value <= 0:\n",
    "            raise ValueError(\"Pages must be a positive integer\")\n",
    "        self._pages = value\n",
    "\n",
    "book5 = Book(\"Moby-Dick\", \"Herman Melville\", 585)\n",
    "print(f\"Pages in Moby-Dick: {book5.pages}\")\n",
    "\n",
    "try:\n",
    "    book5.pages = -100\n",
    "except ValueError as e:\n",
    "    print(f\"Error: {e}\")\n",
    "\n",
    "# These problems cover various aspects of Python classes. Try solving them to reinforce your understanding!\n"
   ]
  },
  {
   "cell_type": "markdown",
   "metadata": {
    "slideshow": {
     "slide_type": "slide"
    }
   },
   "source": [
    "## Modules in Python\n",
    "\n",
    "Modules are a fundamental concept in Python that allow you to organize and reuse code. Here's an overview of modules in Python:\n",
    "\n",
    "1. Definition\n",
    "2. Creating a module\n",
    "3. Importing modules\n",
    "4. Accessing module contents\n",
    "5. Importing specific items\n",
    "6. Aliasing\n",
    "7. Built-in modules\n",
    "8. The `__name__` variable\n",
    "\n",
    "Modules are crucial for organizing code, promoting reusability, and managing dependencies in Python projects, including your AI chatbot development."
   ]
  },
  {
   "cell_type": "markdown",
   "metadata": {
    "slideshow": {
     "slide_type": "subslide"
    }
   },
   "source": [
    "1. Definition:\n",
    "   A module is a file containing Python definitions and statements. It can define functions, classes, and variables that can be used in other Python programs.\n",
    "\n",
    "2. Creating a module:\n",
    "   To create a module, simply save Python code in a file with a `.py` extension. For example, `mymodule.py`.\n",
    "\n",
    "3. Importing modules:\n",
    "   You can use the `import` statement to make a module's functionality available in your current Python script:\n",
    "   ```python\n",
    "   import mymodule\n",
    "   ```\n",
    "\n",
    "4. Accessing module contents:\n",
    "   After importing, you can access the module's functions, classes, and variables using dot notation:\n",
    "   ```python\n",
    "   mymodule.some_function()\n",
    "   ```"
   ]
  },
  {
   "cell_type": "markdown",
   "metadata": {
    "slideshow": {
     "slide_type": "subslide"
    }
   },
   "source": [
    "5. Importing specific items:\n",
    "   You can import specific items from a module using the `from ... import ...` syntax:\n",
    "   ```python\n",
    "   from mymodule import some_function, SomeClass\n",
    "   ```\n",
    "\n",
    "6. Aliasing:\n",
    "   You can give modules or imported items alternative names using the `as` keyword:\n",
    "   ```python\n",
    "   import mymodule as mm\n",
    "   from mymodule import some_function as sf\n",
    "   ```\n",
    "\n",
    "7. Built-in modules:\n",
    "   Python comes with a library of standard modules. You can use these modules by importing them, e.g., `import math`.\n",
    "\n",
    "8. The `__name__` variable:\n",
    "   This special variable is set to `\"__main__\"` when a module is run directly, allowing you to write code that runs only when the module is the main program.\n"
   ]
  },
  {
   "cell_type": "code",
   "execution_count": 12,
   "metadata": {
    "slideshow": {
     "slide_type": "skip"
    }
   },
   "outputs": [
    {
     "name": "stdout",
     "output_type": "stream",
     "text": [
      "5 + 3 = 8\n",
      "4 * 6 = 24\n",
      "The square root of 16 is 4.0\n",
      "Hello, Alice!\n",
      "A random number between 1 and 100: 82\n"
     ]
    }
   ],
   "source": [
    "# Practice Problems: Understanding Python Modules\n",
    "\n",
    "# Problem 1: Creating and Importing a Module\n",
    "# Create a file named 'calculator.py' with basic arithmetic functions\n",
    "# and import it in this notebook.\n",
    "\n",
    "# TODO: Create 'calculator.py' with add, subtract, multiply, and divide functions\n",
    "\n",
    "# Now import the module and use its functions\n",
    "import calculator\n",
    "\n",
    "result = calculator.add(5, 3)\n",
    "print(f\"5 + 3 = {result}\")\n",
    "\n",
    "# Problem 2: Importing Specific Functions\n",
    "# Import only the multiply function from the calculator module\n",
    "\n",
    "from calculator import multiply\n",
    "\n",
    "result = multiply(4, 6)\n",
    "print(f\"4 * 6 = {result}\")\n",
    "\n",
    "# Problem 3: Aliasing\n",
    "# Import the math module with an alias and use one of its functions\n",
    "\n",
    "import math as m\n",
    "\n",
    "result = m.sqrt(16)\n",
    "print(f\"The square root of 16 is {result}\")\n",
    "\n",
    "# Problem 4: Creating a Module with __name__ == \"__main__\"\n",
    "# Create a file named 'greetings.py' that prints a greeting when run directly,\n",
    "# but can also be imported as a module.\n",
    "\n",
    "# TODO: Create 'greetings.py' with a greet() function and __name__ == \"__main__\" check\n",
    "\n",
    "# Now import and use the greet function\n",
    "from greetings import greet\n",
    "\n",
    "greet(\"Alice\")\n",
    "\n",
    "# Problem 5: Exploring Built-in Modules\n",
    "# Use the 'random' module to generate a random number\n",
    "\n",
    "import random\n",
    "\n",
    "random_number = random.randint(1, 100)\n",
    "print(f\"A random number between 1 and 100: {random_number}\")\n",
    "\n",
    "# Bonus: Try running the 'greetings.py' file directly to see the difference\n",
    "# when a module is run as the main program vs. being imported.\n"
   ]
  },
  {
   "cell_type": "markdown",
   "metadata": {
    "slideshow": {
     "slide_type": "slide"
    }
   },
   "source": [
    "## Control Statements in Python\n",
    "\n",
    "Control statements in Python are used to control the flow of execution in a program. They allow you to make decisions, repeat actions, and organize your code. Here are the main types of control statements in Python:\n",
    "\n",
    "1. Conditional Statements\n",
    "2. Looping Statements\n",
    "\n",
    "Control statements are essential for creating interactive and dynamic programs."
   ]
  },
  {
   "cell_type": "markdown",
   "metadata": {
    "slideshow": {
     "slide_type": "subslide"
    }
   },
   "source": [
    "### 1. Conditional Statements\n",
    "\n",
    "#### if, elif, else\n",
    "These statements allow you to execute different code blocks based on certain conditions."
   ]
  },
  {
   "cell_type": "markdown",
   "metadata": {
    "slideshow": {
     "slide_type": "subslide"
    }
   },
   "source": [
    "Example:\n",
    "\n",
    "```python\n",
    "x = 10\n",
    "if x > 5:\n",
    "    print(\"x is greater than 5\")\n",
    "elif x == 5:\n",
    "    print(\"x is equal to 5\")\n",
    "else:\n",
    "    print(\"x is less than 5\")\n",
    "    \n",
    "```\n"
   ]
  },
  {
   "cell_type": "markdown",
   "metadata": {
    "slideshow": {
     "slide_type": "subslide"
    }
   },
   "source": [
    "### 2. Looping Statements\n",
    "\n",
    "#### for, while\n",
    "These statements allow you to repeat a block of code multiple times."
   ]
  },
  {
   "cell_type": "markdown",
   "metadata": {},
   "source": []
  },
  {
   "cell_type": "markdown",
   "metadata": {
    "slideshow": {
     "slide_type": "subslide"
    }
   },
   "source": [
    "#### for loop\n",
    "\n",
    "Example:\n",
    "```python\n",
    "for i in range(5):\n",
    "    print(i)\n",
    "```\n",
    "\n",
    "#### while loop\n",
    "\n",
    "Example:\n",
    "```python\n",
    "count = 0\n",
    "while count < 5:\n",
    "    print(f\"Count is {count}\")\n",
    "    count += 1\n",
    "```"
   ]
  },
  {
   "cell_type": "code",
   "execution_count": 13,
   "metadata": {
    "slideshow": {
     "slide_type": "skip"
    }
   },
   "outputs": [
    {
     "name": "stdout",
     "output_type": "stream",
     "text": [
      "Problem 1: If-Else Statement\n",
      "10 is even\n",
      "\n",
      "\n",
      "Problem 2: For Loop\n",
      "First 5 multiples of 3:\n",
      "3\n",
      "6\n",
      "9\n",
      "12\n",
      "15\n",
      "\n",
      "\n",
      "Problem 3: While Loop\n",
      "Countdown:\n",
      "5\n",
      "4\n",
      "3\n",
      "2\n",
      "1\n",
      "Blast off!\n",
      "\n",
      "\n",
      "Problem 4: Nested If-Else\n",
      "You are an adult\n",
      "\n",
      "\n",
      "Problem 5: Break and Continue\n",
      "Numbers from 1 to 10 (skip 5, stop at 8):\n",
      "1\n",
      "2\n",
      "3\n",
      "4\n",
      "6\n",
      "7\n",
      "8\n"
     ]
    }
   ],
   "source": [
    "# Practice problems for Python control statements\n",
    "\n",
    "# 1. If-Else Statement\n",
    "print(\"Problem 1: If-Else Statement\")\n",
    "# Write a program that checks if a number is even or odd\n",
    "# num = int(input(\"Enter a number: \"))\n",
    "num = 10\n",
    "if num % 2 == 0:\n",
    "    print(f\"{num} is even\")\n",
    "else:\n",
    "    print(f\"{num} is odd\")\n",
    "\n",
    "print(\"\\n\")\n",
    "\n",
    "# 2. For Loop\n",
    "print(\"Problem 2: For Loop\")\n",
    "# Write a program that prints the first 5 multiples of 3\n",
    "print(\"First 5 multiples of 3:\")\n",
    "for i in range(1, 6):\n",
    "    print(3 * i)\n",
    "\n",
    "print(\"\\n\")\n",
    "\n",
    "# 3. While Loop\n",
    "print(\"Problem 3: While Loop\")\n",
    "# Write a program that counts down from 5 to 1\n",
    "count = 5\n",
    "print(\"Countdown:\")\n",
    "while count > 0:\n",
    "    print(count)\n",
    "    count -= 1\n",
    "print(\"Blast off!\")\n",
    "\n",
    "print(\"\\n\")\n",
    "\n",
    "# 4. Nested If-Else\n",
    "print(\"Problem 4: Nested If-Else\")\n",
    "# Write a program that categorizes a person's age\n",
    "# age = int(input(\"Enter your age: \"))\n",
    "age = 20\n",
    "if age < 13:\n",
    "    print(\"You are a child\")\n",
    "elif age < 20:\n",
    "    print(\"You are a teenager\")\n",
    "else:\n",
    "    if age < 65:\n",
    "        print(\"You are an adult\")\n",
    "    else:\n",
    "        print(\"You are a senior citizen\")\n",
    "\n",
    "print(\"\\n\")\n",
    "\n",
    "# 5. Break and Continue\n",
    "print(\"Problem 5: Break and Continue\")\n",
    "# Write a program that prints numbers from 1 to 10, but skips 5 and stops at 8\n",
    "print(\"Numbers from 1 to 10 (skip 5, stop at 8):\")\n",
    "for i in range(1, 11):\n",
    "    if i == 5:\n",
    "        continue\n",
    "    if i > 8:\n",
    "        break\n",
    "    print(i)\n"
   ]
  },
  {
   "cell_type": "markdown",
   "metadata": {
    "slideshow": {
     "slide_type": "subslide"
    }
   },
   "source": [
    "## Exception Handling in Python\n",
    "\n",
    "Exception handling in Python allows you to manage errors and unexpected situations in your code gracefully. It helps prevent your program from crashing when an error occurs."
   ]
  },
  {
   "cell_type": "markdown",
   "metadata": {
    "slideshow": {
     "slide_type": "subslide"
    }
   },
   "source": [
    "### try, except, else, finally\n",
    "\n",
    "These are the main components of exception handling in Python:\n",
    "\n",
    "- `try`: This block contains the code that might raise an exception.\n",
    "- `except`: This block handles the exception if it occurs in the try block.\n",
    "- `else`: This optional block executes if no exception occurs in the try block.\n",
    "- `finally`: This optional block always executes, regardless of whether an exception occurred or not."
   ]
  },
  {
   "cell_type": "markdown",
   "metadata": {
    "slideshow": {
     "slide_type": "subslide"
    }
   },
   "source": [
    "Example:\n",
    "```python\n",
    "try:\n",
    "    x = int(input(\"Enter a number: \"))\n",
    "    result = 10 / x\n",
    "    print(f\"Result: {result}\")\n",
    "except ValueError:\n",
    "    print(\"Invalid input. Please enter a number.\")\n",
    "except ZeroDivisionError:\n",
    "    print(\"Cannot divide by zero.\")\n",
    "else:\n",
    "    print(\"Calculation successful.\")\n",
    "finally:\n",
    "    print(\"Exception handling complete.\")\n",
    "```"
   ]
  },
  {
   "cell_type": "markdown",
   "metadata": {
    "slideshow": {
     "slide_type": "subslide"
    }
   },
   "source": [
    "\n",
    "This structure allows you to gracefully handle errors, provide meaningful feedback to users, and ensure that necessary cleanup operations are always performed.\n"
   ]
  },
  {
   "cell_type": "code",
   "execution_count": 14,
   "metadata": {
    "slideshow": {
     "slide_type": "skip"
    }
   },
   "outputs": [
    {
     "name": "stdout",
     "output_type": "stream",
     "text": [
      "Problem 1: Division Calculator\n",
      "Error: Cannot divide by zero.\n",
      "\n",
      "Problem 2: File Reader\n",
      "Error: The file 'example.txt' was not found.\n",
      "\n",
      "Problem 3: List Index Access\n",
      "Error: Index out of range. Please enter a number between 0 and 4.\n",
      "\n",
      "Problem 4: Dictionary Key Lookup\n",
      "The color of grape is purple.\n"
     ]
    }
   ],
   "source": [
    "# Practice problems for Python exception handling\n",
    "\n",
    "# Problem 1: Division Calculator\n",
    "print(\"Problem 1: Division Calculator\")\n",
    "try:\n",
    "    # numerator = int(input(\"Enter the numerator: \"))\n",
    "    # denominator = int(input(\"Enter the denominator: \"))\n",
    "    numerator = 10\n",
    "    denominator = 0\n",
    "    result = numerator / denominator\n",
    "    print(f\"Result: {result}\")\n",
    "except ValueError:\n",
    "    print(\"Error: Please enter valid integers.\")\n",
    "except ZeroDivisionError:\n",
    "    print(\"Error: Cannot divide by zero.\")\n",
    "except Exception as e:\n",
    "    print(f\"An unexpected error occurred: {e}\")\n",
    "\n",
    "# Problem 2: File Reader\n",
    "print(\"\\nProblem 2: File Reader\")\n",
    "try:\n",
    "    # filename = input(\"Enter the filename to read: \")\n",
    "    filename = \"example.txt\"\n",
    "    with open(filename, 'r') as file:\n",
    "        content = file.read()\n",
    "        print(f\"File contents:\\n{content}\")\n",
    "except FileNotFoundError:\n",
    "    print(f\"Error: The file '{filename}' was not found.\")\n",
    "except PermissionError:\n",
    "    print(f\"Error: You don't have permission to read '{filename}'.\")\n",
    "except Exception as e:\n",
    "    print(f\"An unexpected error occurred: {e}\")\n",
    "\n",
    "# Problem 3: List Index Access\n",
    "print(\"\\nProblem 3: List Index Access\")\n",
    "numbers = [1, 2, 3, 4, 5]\n",
    "try:\n",
    "    # index = int(input(f\"Enter an index to access (0-{len(numbers)-1}): \"))\n",
    "    index = 10\n",
    "    value = numbers[index]\n",
    "    print(f\"Value at index {index}: {value}\")\n",
    "except ValueError:\n",
    "    print(\"Error: Please enter a valid integer.\")\n",
    "except IndexError:\n",
    "    print(f\"Error: Index out of range. Please enter a number between 0 and {len(numbers)-1}.\")\n",
    "except Exception as e:\n",
    "    print(f\"An unexpected error occurred: {e}\")\n",
    "\n",
    "# Problem 4: Dictionary Key Lookup\n",
    "print(\"\\nProblem 4: Dictionary Key Lookup\")\n",
    "fruit_colors = {\"apple\": \"red\", \"banana\": \"yellow\", \"grape\": \"purple\"}\n",
    "try:\n",
    "    # fruit = input(\"Enter a fruit name: \").lower()\n",
    "    fruit = \"grape\"\n",
    "    color = fruit_colors[fruit]\n",
    "    print(f\"The color of {fruit} is {color}.\")\n",
    "except KeyError:\n",
    "    print(f\"Error: '{fruit}' is not in our fruit color database.\")\n",
    "except Exception as e:\n",
    "    print(f\"An unexpected error occurred: {e}\")\n"
   ]
  },
  {
   "cell_type": "markdown",
   "metadata": {
    "slideshow": {
     "slide_type": "slide"
    }
   },
   "source": [
    "## A Simple Console-Based Non-AI Chatbot\n",
    "\n",
    "1. **Main Loop**\n",
    "2. **Input Processing**\n",
    "3. **Response Generation**\n",
    "4. **Basic Conversation Flow**\n",
    "5. **Optional Features**\n",
    "6. **Error Handling**\n",
    "\n",
    "This structure creates a basic chatbot that can engage in simple conversations without using AI, relying instead on pattern matching and pre-defined responses."
   ]
  },
  {
   "cell_type": "markdown",
   "metadata": {
    "slideshow": {
     "slide_type": "subslide"
    }
   },
   "source": [
    "1. **Main Loop**\n",
    "   - Continuously prompts the user for input\n",
    "   - Processes the input and generates a response\n",
    "   - Displays the response to the user\n",
    "   - Continues until the user decides to exit"
   ]
  },
  {
   "cell_type": "markdown",
   "metadata": {
    "slideshow": {
     "slide_type": "subslide"
    }
   },
   "source": [
    "2. **Input Processing**\n",
    "   - Converts user input to lowercase for easier matching\n",
    "   - Removes punctuation and extra whitespace\n",
    "   - Identifies keywords or patterns in the input"
   ]
  },
  {
   "cell_type": "markdown",
   "metadata": {
    "slideshow": {
     "slide_type": "subslide"
    }
   },
   "source": [
    "3. **Response Generation**\n",
    "   - Uses a dictionary or database of pre-defined responses\n",
    "   - Matches user input to appropriate responses based on keywords\n",
    "   - Selects a response randomly if multiple matches are found\n",
    "   - Has a default response for unrecognized inputs"
   ]
  },
  {
   "cell_type": "markdown",
   "metadata": {
    "slideshow": {
     "slide_type": "subslide"
    }
   },
   "source": [
    "4. **Basic Conversation Flow**\n",
    "   - Greeting: Welcomes the user and introduces itself\n",
    "   - Conversation: Responds to user inputs based on predefined patterns\n",
    "   - Exit: Recognizes when the user wants to end the conversation"
   ]
  },
  {
   "cell_type": "markdown",
   "metadata": {
    "slideshow": {
     "slide_type": "subslide"
    }
   },
   "source": [
    "5. **Optional Features**\n",
    "   - Simple memory: Remembers user's name or previous topics\n",
    "   - Topic-specific modules: Separate functions for different conversation topics\n",
    "   - Random elements: Adds variety to responses to seem more natural"
   ]
  },
  {
   "cell_type": "markdown",
   "metadata": {
    "slideshow": {
     "slide_type": "subslide"
    }
   },
   "source": [
    "\n",
    "6. **Error Handling**\n",
    "   - Manages unexpected inputs gracefully\n",
    "   - Provides helpful messages for invalid commands or inputs"
   ]
  },
  {
   "cell_type": "markdown",
   "metadata": {
    "slideshow": {
     "slide_type": "skip"
    }
   },
   "source": [
    "```python\n",
    "import random\n",
    "import re\n",
    "\n",
    "# Dictionary of pre-defined responses\n",
    "responses = {\n",
    "    \"hello\": [\"Hi there!\", \"Hello!\", \"Greetings!\"],\n",
    "    \"how are you\": [\"I'm doing well, thanks for asking!\", \"I'm great! How about you?\", \"All good here!\"],\n",
    "    \"bye\": [\"Goodbye!\", \"See you later!\", \"Take care!\"],\n",
    "    \"name\": [\"My name is ChatBot. Nice to meet you!\", \"I'm ChatBot. What's your name?\"],\n",
    "    \"weather\": [\"I'm not able to check the weather, but I hope it's nice outside!\", \"Why don't you look out the window and tell me?\"],\n",
    "    \"default\": [\"Interesting. Tell me more.\", \"I'm not sure I understand. Can you rephrase that?\", \"That's a new one for me!\"]\n",
    "}\n",
    "\n",
    "def preprocess_input(user_input):\n",
    "    # Convert to lowercase and remove punctuation\n",
    "    processed = re.sub(r'[^\\w\\s]', '', user_input.lower())\n",
    "    return processed.strip()\n",
    "\n",
    "def get_response(user_input):\n",
    "    for key in responses:\n",
    "        if key in user_input:\n",
    "            return random.choice(responses[key])\n",
    "    return random.choice(responses[\"default\"])\n",
    "\n",
    "def chatbot():\n",
    "    print(\"ChatBot: Hello! I'm a simple chatbot. Type 'bye' to exit.\")\n",
    "    \n",
    "    while True:\n",
    "        user_input = input(\"You: \")\n",
    "        processed_input = preprocess_input(user_input)\n",
    "        \n",
    "        if processed_input == 'bye':\n",
    "            print(\"ChatBot: Goodbye! It was nice chatting with you.\")\n",
    "            break\n",
    "        \n",
    "        response = get_response(processed_input)\n",
    "        print(\"ChatBot:\", response)\n",
    "\n",
    "if __name__ == \"__main__\":\n",
    "    chatbot()\n",
    "```\n"
   ]
  }
 ],
 "metadata": {
  "kernelspec": {
   "display_name": "Python 3",
   "language": "python",
   "name": "python3"
  },
  "language_info": {
   "codemirror_mode": {
    "name": "ipython",
    "version": 3
   },
   "file_extension": ".py",
   "mimetype": "text/x-python",
   "name": "python",
   "nbconvert_exporter": "python",
   "pygments_lexer": "ipython3",
   "version": "3.12.3"
  }
 },
 "nbformat": 4,
 "nbformat_minor": 2
}
